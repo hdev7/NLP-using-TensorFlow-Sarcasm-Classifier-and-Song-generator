{
 "cells": [
  {
   "cell_type": "markdown",
   "metadata": {},
   "source": [
    "Dataset: https://www.azlyrics.com/c/coldplay.html"
   ]
  },
  {
   "cell_type": "code",
   "execution_count": 1,
   "metadata": {
    "colab": {},
    "colab_type": "code",
    "id": "BOwsuGQQY9OL"
   },
   "outputs": [],
   "source": [
    "#imports\n",
    "from tensorflow.keras.preprocessing.sequence import pad_sequences\n",
    "from tensorflow.keras.layers import Embedding, LSTM, Dense, Dropout, Bidirectional\n",
    "from tensorflow.keras.preprocessing.text import Tokenizer\n",
    "from tensorflow.keras.models import Sequential\n",
    "from tensorflow.keras.optimizers import Adam\n",
    "from tensorflow.keras import regularizers\n",
    "import tensorflow.keras.utils as ku \n",
    "import numpy as np "
   ]
  },
  {
   "cell_type": "code",
   "execution_count": 2,
   "metadata": {
    "colab": {},
    "colab_type": "code",
    "id": "PRnDnCW-Z7qv"
   },
   "outputs": [],
   "source": [
    "#I have consolidated the lyrics of coldplay discography.\n",
    "tokenizer = Tokenizer()\n",
    "data = open('coldplay.txt').read()\n",
    "\n",
    "corpus = data.lower().split(\"\\n\")\n",
    "\n",
    "\n",
    "tokenizer.fit_on_texts(corpus)\n",
    "total_words = len(tokenizer.word_index) + 1\n",
    "\n",
    "# create input sequences using list of tokens. ngrams of each line. 2,3....,max(words)\n",
    "input_sequences = []\n",
    "for line in corpus:\n",
    "    token_list = tokenizer.texts_to_sequences([line])[0]\n",
    "    for i in range(1, len(token_list)):\n",
    "        n_gram_sequence = token_list[:i+1]\n",
    "        input_sequences.append(n_gram_sequence)\n",
    "\n",
    "\n",
    "# pad sequences \n",
    "max_sequence_len = max([len(x) for x in input_sequences])\n",
    "input_sequences = np.array(pad_sequences(input_sequences, maxlen=max_sequence_len, padding='pre'))\n",
    "\n",
    "# create predictors and label\n",
    "#last word in every n-gram sequence is the labelled variable\n",
    "predictors, label = input_sequences[:,:-1],input_sequences[:,-1]\n",
    "\n",
    "label = ku.to_categorical(label, num_classes=total_words)# one hot encoding"
   ]
  },
  {
   "cell_type": "code",
   "execution_count": 3,
   "metadata": {
    "colab": {},
    "colab_type": "code",
    "id": "w9vH8Y59ajYL"
   },
   "outputs": [
    {
     "name": "stdout",
     "output_type": "stream",
     "text": [
      "Model: \"sequential\"\n",
      "_________________________________________________________________\n",
      "Layer (type)                 Output Shape              Param #   \n",
      "=================================================================\n",
      "embedding (Embedding)        (None, 20, 100)           187200    \n",
      "_________________________________________________________________\n",
      "bidirectional (Bidirectional (None, 20, 300)           301200    \n",
      "_________________________________________________________________\n",
      "dropout (Dropout)            (None, 20, 300)           0         \n",
      "_________________________________________________________________\n",
      "lstm_1 (LSTM)                (None, 100)               160400    \n",
      "_________________________________________________________________\n",
      "dense (Dense)                (None, 936)               94536     \n",
      "_________________________________________________________________\n",
      "dense_1 (Dense)              (None, 1872)              1754064   \n",
      "=================================================================\n",
      "Total params: 2,497,400\n",
      "Trainable params: 2,497,400\n",
      "Non-trainable params: 0\n",
      "_________________________________________________________________\n",
      "None\n"
     ]
    }
   ],
   "source": [
    "#sequential model\n",
    "#using relu for hidden layers\n",
    "#using softmax for the output layer as it is a multi classification problem\n",
    "#using dropout on visible layer to overcome overfitting.\n",
    "model = Sequential()\n",
    "model.add(Embedding(total_words, 100, input_length=max_sequence_len-1))\n",
    "model.add(Bidirectional(LSTM(150, return_sequences = True)))\n",
    "model.add(Dropout(0.2))\n",
    "model.add(LSTM(100))\n",
    "model.add(Dense(total_words/2, activation='relu', kernel_regularizer=regularizers.l2(0.01)))\n",
    "model.add(Dense(total_words, activation='softmax'))\n",
    "model.compile(loss='categorical_crossentropy', optimizer='adam', metrics=['accuracy'])\n",
    "print(model.summary())\n"
   ]
  },
  {
   "cell_type": "code",
   "execution_count": 4,
   "metadata": {
    "colab": {},
    "colab_type": "code",
    "id": "AIg2f1HBxqof"
   },
   "outputs": [
    {
     "name": "stdout",
     "output_type": "stream",
     "text": [
      "Train on 15825 samples\n",
      "Epoch 1/100\n",
      "15825/15825 [==============================] - 48s 3ms/sample - loss: 6.1709 - accuracy: 0.0379\n",
      "Epoch 2/100\n",
      "15825/15825 [==============================] - 41s 3ms/sample - loss: 5.6270 - accuracy: 0.0468\n",
      "Epoch 3/100\n",
      "15825/15825 [==============================] - 44s 3ms/sample - loss: 5.4062 - accuracy: 0.0555\n",
      "Epoch 4/100\n",
      "15825/15825 [==============================] - 51s 3ms/sample - loss: 5.2618 - accuracy: 0.0636\n",
      "Epoch 5/100\n",
      "15825/15825 [==============================] - 56s 4ms/sample - loss: 5.1291 - accuracy: 0.0753\n",
      "Epoch 6/100\n",
      "15825/15825 [==============================] - 57s 4ms/sample - loss: 4.9957 - accuracy: 0.0919\n",
      "Epoch 7/100\n",
      "15825/15825 [==============================] - 57s 4ms/sample - loss: 4.8618 - accuracy: 0.1155\n",
      "Epoch 8/100\n",
      "15825/15825 [==============================] - 57s 4ms/sample - loss: 4.7324 - accuracy: 0.1293\n",
      "Epoch 9/100\n",
      "15825/15825 [==============================] - 57s 4ms/sample - loss: 4.6170 - accuracy: 0.1482\n",
      "Epoch 10/100\n",
      "15825/15825 [==============================] - 57s 4ms/sample - loss: 4.5190 - accuracy: 0.1638\n",
      "Epoch 11/100\n",
      "15825/15825 [==============================] - 57s 4ms/sample - loss: 4.4288 - accuracy: 0.1732\n",
      "Epoch 12/100\n",
      "15825/15825 [==============================] - 55s 3ms/sample - loss: 4.3506 - accuracy: 0.1819\n",
      "Epoch 13/100\n",
      "15825/15825 [==============================] - 55s 3ms/sample - loss: 4.2672 - accuracy: 0.1925\n",
      "Epoch 14/100\n",
      "15825/15825 [==============================] - 54s 3ms/sample - loss: 4.1880 - accuracy: 0.2030\n",
      "Epoch 15/100\n",
      "15825/15825 [==============================] - 54s 3ms/sample - loss: 4.1043 - accuracy: 0.2143\n",
      "Epoch 16/100\n",
      "15825/15825 [==============================] - 56s 4ms/sample - loss: 4.0255 - accuracy: 0.2245\n",
      "Epoch 17/100\n",
      "15825/15825 [==============================] - 55s 3ms/sample - loss: 3.9474 - accuracy: 0.2351\n",
      "Epoch 18/100\n",
      "15825/15825 [==============================] - 55s 3ms/sample - loss: 3.8780 - accuracy: 0.2447\n",
      "Epoch 19/100\n",
      "15825/15825 [==============================] - 55s 3ms/sample - loss: 3.8063 - accuracy: 0.2539\n",
      "Epoch 20/100\n",
      "15825/15825 [==============================] - 54s 3ms/sample - loss: 3.7310 - accuracy: 0.2654\n",
      "Epoch 21/100\n",
      "15825/15825 [==============================] - 54s 3ms/sample - loss: 3.6721 - accuracy: 0.2751\n",
      "Epoch 22/100\n",
      "15825/15825 [==============================] - 55s 3ms/sample - loss: 3.6064 - accuracy: 0.2821\n",
      "Epoch 23/100\n",
      "15825/15825 [==============================] - 55s 4ms/sample - loss: 3.5369 - accuracy: 0.2931\n",
      "Epoch 24/100\n",
      "15825/15825 [==============================] - 55s 3ms/sample - loss: 3.4753 - accuracy: 0.3033\n",
      "Epoch 25/100\n",
      "15825/15825 [==============================] - 55s 3ms/sample - loss: 3.4102 - accuracy: 0.3196\n",
      "Epoch 26/100\n",
      "15825/15825 [==============================] - 55s 3ms/sample - loss: 3.3567 - accuracy: 0.3286\n",
      "Epoch 27/100\n",
      "15825/15825 [==============================] - 55s 3ms/sample - loss: 3.2930 - accuracy: 0.3348\n",
      "Epoch 28/100\n",
      "15825/15825 [==============================] - 56s 4ms/sample - loss: 3.2387 - accuracy: 0.3463\n",
      "Epoch 29/100\n",
      "15825/15825 [==============================] - 54s 3ms/sample - loss: 3.1717 - accuracy: 0.3594\n",
      "Epoch 30/100\n",
      "15825/15825 [==============================] - 53s 3ms/sample - loss: 3.1233 - accuracy: 0.3649\n",
      "Epoch 31/100\n",
      "15825/15825 [==============================] - 54s 3ms/sample - loss: 3.0686 - accuracy: 0.3737\n",
      "Epoch 32/100\n",
      "15825/15825 [==============================] - 53s 3ms/sample - loss: 3.0212 - accuracy: 0.3838\n",
      "Epoch 33/100\n",
      "15825/15825 [==============================] - 53s 3ms/sample - loss: 2.9722 - accuracy: 0.3934\n",
      "Epoch 34/100\n",
      "15825/15825 [==============================] - 53s 3ms/sample - loss: 2.9267 - accuracy: 0.3985\n",
      "Epoch 35/100\n",
      "15825/15825 [==============================] - 54s 3ms/sample - loss: 2.8734 - accuracy: 0.4106\n",
      "Epoch 36/100\n",
      "15825/15825 [==============================] - 53s 3ms/sample - loss: 2.8388 - accuracy: 0.4186\n",
      "Epoch 37/100\n",
      "15825/15825 [==============================] - 52s 3ms/sample - loss: 2.7879 - accuracy: 0.4312\n",
      "Epoch 38/100\n",
      "15825/15825 [==============================] - 53s 3ms/sample - loss: 2.7428 - accuracy: 0.4361\n",
      "Epoch 39/100\n",
      "15825/15825 [==============================] - 59s 4ms/sample - loss: 2.7048 - accuracy: 0.4457\n",
      "Epoch 40/100\n",
      "15825/15825 [==============================] - 60s 4ms/sample - loss: 2.6664 - accuracy: 0.4529\n",
      "Epoch 41/100\n",
      "15825/15825 [==============================] - 59s 4ms/sample - loss: 2.6258 - accuracy: 0.4634\n",
      "Epoch 42/100\n",
      "15825/15825 [==============================] - 59s 4ms/sample - loss: 2.5821 - accuracy: 0.4704\n",
      "Epoch 43/100\n",
      "15825/15825 [==============================] - 58s 4ms/sample - loss: 2.5489 - accuracy: 0.4775\n",
      "Epoch 44/100\n",
      "15825/15825 [==============================] - 59s 4ms/sample - loss: 2.5145 - accuracy: 0.4866\n",
      "Epoch 45/100\n",
      "15825/15825 [==============================] - 58s 4ms/sample - loss: 2.4731 - accuracy: 0.4940\n",
      "Epoch 46/100\n",
      "15825/15825 [==============================] - 59s 4ms/sample - loss: 2.4328 - accuracy: 0.5014\n",
      "Epoch 47/100\n",
      "15825/15825 [==============================] - 61s 4ms/sample - loss: 2.4023 - accuracy: 0.5089\n",
      "Epoch 48/100\n",
      "15825/15825 [==============================] - 59s 4ms/sample - loss: 2.3688 - accuracy: 0.5191\n",
      "Epoch 49/100\n",
      "15825/15825 [==============================] - 57s 4ms/sample - loss: 2.3359 - accuracy: 0.5218\n",
      "Epoch 50/100\n",
      "15825/15825 [==============================] - 58s 4ms/sample - loss: 2.3001 - accuracy: 0.5328\n",
      "Epoch 51/100\n",
      "15825/15825 [==============================] - 56s 4ms/sample - loss: 2.2724 - accuracy: 0.5383\n",
      "Epoch 52/100\n",
      "15825/15825 [==============================] - 56s 4ms/sample - loss: 2.2410 - accuracy: 0.5407\n",
      "Epoch 53/100\n",
      "15825/15825 [==============================] - 56s 4ms/sample - loss: 2.2079 - accuracy: 0.5504\n",
      "Epoch 54/100\n",
      "15825/15825 [==============================] - 55s 3ms/sample - loss: 2.1761 - accuracy: 0.5557\n",
      "Epoch 55/100\n",
      "15825/15825 [==============================] - 57s 4ms/sample - loss: 2.1468 - accuracy: 0.5618\n",
      "Epoch 56/100\n",
      "15825/15825 [==============================] - 59s 4ms/sample - loss: 2.1224 - accuracy: 0.5675\n",
      "Epoch 57/100\n",
      "15825/15825 [==============================] - 54s 3ms/sample - loss: 2.0983 - accuracy: 0.5717\n",
      "Epoch 58/100\n",
      "15825/15825 [==============================] - 52s 3ms/sample - loss: 2.0677 - accuracy: 0.5773\n",
      "Epoch 59/100\n",
      "15825/15825 [==============================] - 55s 3ms/sample - loss: 2.0409 - accuracy: 0.5862\n",
      "Epoch 60/100\n",
      "15825/15825 [==============================] - 54s 3ms/sample - loss: 2.0143 - accuracy: 0.5918\n",
      "Epoch 61/100\n",
      "15825/15825 [==============================] - 54s 3ms/sample - loss: 1.9964 - accuracy: 0.5942\n",
      "Epoch 62/100\n",
      "15825/15825 [==============================] - 55s 3ms/sample - loss: 1.9534 - accuracy: 0.6027\n",
      "Epoch 63/100\n",
      "15825/15825 [==============================] - 56s 4ms/sample - loss: 1.9410 - accuracy: 0.6058\n",
      "Epoch 64/100\n",
      "15825/15825 [==============================] - 56s 4ms/sample - loss: 1.9172 - accuracy: 0.6133\n",
      "Epoch 65/100\n",
      "15825/15825 [==============================] - 56s 4ms/sample - loss: 1.8913 - accuracy: 0.6154\n",
      "Epoch 66/100\n",
      "15825/15825 [==============================] - 57s 4ms/sample - loss: 1.8793 - accuracy: 0.6199\n",
      "Epoch 67/100\n",
      "15825/15825 [==============================] - 57s 4ms/sample - loss: 1.8578 - accuracy: 0.6209\n",
      "Epoch 68/100\n",
      "15825/15825 [==============================] - 56s 4ms/sample - loss: 1.8323 - accuracy: 0.6277\n",
      "Epoch 69/100\n",
      "15825/15825 [==============================] - 56s 4ms/sample - loss: 1.8070 - accuracy: 0.6314\n",
      "Epoch 70/100\n",
      "15825/15825 [==============================] - 56s 4ms/sample - loss: 1.7912 - accuracy: 0.6328\n",
      "Epoch 71/100\n",
      "15825/15825 [==============================] - 58s 4ms/sample - loss: 1.7770 - accuracy: 0.6351\n",
      "Epoch 72/100\n",
      "15825/15825 [==============================] - 56s 4ms/sample - loss: 1.7652 - accuracy: 0.6396\n",
      "Epoch 73/100\n",
      "15825/15825 [==============================] - 61s 4ms/sample - loss: 1.7358 - accuracy: 0.6459\n",
      "Epoch 74/100\n",
      "15825/15825 [==============================] - 65s 4ms/sample - loss: 1.7169 - accuracy: 0.6506\n",
      "Epoch 75/100\n",
      "15825/15825 [==============================] - 63s 4ms/sample - loss: 1.7051 - accuracy: 0.6526\n",
      "Epoch 76/100\n"
     ]
    },
    {
     "name": "stdout",
     "output_type": "stream",
     "text": [
      "15825/15825 [==============================] - 69s 4ms/sample - loss: 1.6755 - accuracy: 0.6598\n",
      "Epoch 77/100\n",
      "15825/15825 [==============================] - 54s 3ms/sample - loss: 1.6523 - accuracy: 0.6639\n",
      "Epoch 78/100\n",
      "15825/15825 [==============================] - 64s 4ms/sample - loss: 1.6475 - accuracy: 0.6648\n",
      "Epoch 79/100\n",
      "15825/15825 [==============================] - 56s 4ms/sample - loss: 1.6324 - accuracy: 0.6653\n",
      "Epoch 80/100\n",
      "15825/15825 [==============================] - 62s 4ms/sample - loss: 1.6184 - accuracy: 0.6686\n",
      "Epoch 81/100\n",
      "15825/15825 [==============================] - 58s 4ms/sample - loss: 1.5964 - accuracy: 0.6737\n",
      "Epoch 82/100\n",
      "15825/15825 [==============================] - 55s 3ms/sample - loss: 1.5886 - accuracy: 0.6767\n",
      "Epoch 83/100\n",
      "15825/15825 [==============================] - 56s 4ms/sample - loss: 1.5648 - accuracy: 0.6817\n",
      "Epoch 84/100\n",
      "15825/15825 [==============================] - 59s 4ms/sample - loss: 1.5604 - accuracy: 0.6833\n",
      "Epoch 85/100\n",
      "15825/15825 [==============================] - 61s 4ms/sample - loss: 1.5434 - accuracy: 0.6859\n",
      "Epoch 86/100\n",
      "15825/15825 [==============================] - 57s 4ms/sample - loss: 1.5348 - accuracy: 0.6873\n",
      "Epoch 87/100\n",
      "15825/15825 [==============================] - 60s 4ms/sample - loss: 1.5137 - accuracy: 0.6901\n",
      "Epoch 88/100\n",
      "15825/15825 [==============================] - 63s 4ms/sample - loss: 1.5048 - accuracy: 0.6926\n",
      "Epoch 89/100\n",
      "15825/15825 [==============================] - 63s 4ms/sample - loss: 1.4947 - accuracy: 0.6969\n",
      "Epoch 90/100\n",
      "15825/15825 [==============================] - 55s 3ms/sample - loss: 1.4780 - accuracy: 0.6971\n",
      "Epoch 91/100\n",
      "15825/15825 [==============================] - 54s 3ms/sample - loss: 1.4642 - accuracy: 0.7017\n",
      "Epoch 92/100\n",
      "15825/15825 [==============================] - 54s 3ms/sample - loss: 1.4548 - accuracy: 0.7040\n",
      "Epoch 93/100\n",
      "15825/15825 [==============================] - 52s 3ms/sample - loss: 1.4474 - accuracy: 0.7012\n",
      "Epoch 94/100\n",
      "15825/15825 [==============================] - 52s 3ms/sample - loss: 1.4285 - accuracy: 0.7066\n",
      "Epoch 95/100\n",
      "15825/15825 [==============================] - 52s 3ms/sample - loss: 1.4197 - accuracy: 0.7101\n",
      "Epoch 96/100\n",
      "15825/15825 [==============================] - 57s 4ms/sample - loss: 1.4139 - accuracy: 0.7110\n",
      "Epoch 97/100\n",
      "15825/15825 [==============================] - 58s 4ms/sample - loss: 1.4033 - accuracy: 0.7111\n",
      "Epoch 98/100\n",
      "15825/15825 [==============================] - 61s 4ms/sample - loss: 1.3975 - accuracy: 0.7125\n",
      "Epoch 99/100\n",
      "15825/15825 [==============================] - 60s 4ms/sample - loss: 1.3873 - accuracy: 0.7133\n",
      "Epoch 100/100\n",
      "15825/15825 [==============================] - 67s 4ms/sample - loss: 1.3710 - accuracy: 0.7213\n"
     ]
    }
   ],
   "source": [
    " history = model.fit(predictors, label, epochs=100, verbose=1)"
   ]
  },
  {
   "cell_type": "code",
   "execution_count": 6,
   "metadata": {
    "colab": {},
    "colab_type": "code",
    "id": "1fXTEO3GJ282"
   },
   "outputs": [
    {
     "data": {
      "image/png": "[encoded data removed]",
      "text/plain": [
       "<Figure size 432x288 with 1 Axes>"
      ]
     },
     "metadata": {
      "needs_background": "light"
     },
     "output_type": "display_data"
    },
    {
     "data": {
      "image/png": "[encoded data removed]",
      "text/plain": [
       "<Figure size 432x288 with 1 Axes>"
      ]
     },
     "metadata": {
      "needs_background": "light"
     },
     "output_type": "display_data"
    }
   ],
   "source": [
    "import matplotlib.pyplot as plt\n",
    "acc = history.history['accuracy']\n",
    "loss = history.history['loss']\n",
    "\n",
    "epochs = range(len(acc))\n",
    "\n",
    "plt.plot(epochs, acc, 'b', label='Training accuracy')\n",
    "plt.title('Training accuracy')\n",
    "\n",
    "plt.figure()\n",
    "\n",
    "plt.plot(epochs, loss, 'b', label='Training Loss')\n",
    "plt.title('Training loss')\n",
    "plt.legend()\n",
    "\n",
    "plt.show()"
   ]
  },
  {
   "cell_type": "code",
   "execution_count": 9,
   "metadata": {
    "colab": {},
    "colab_type": "code",
    "id": "6Vc6PHgxa6Hm"
   },
   "outputs": [],
   "source": [
    "def generator(next_words,seed_text):\n",
    "  \n",
    "    for _ in range(next_words):\n",
    "        token_list = tokenizer.texts_to_sequences([seed_text])[0]\n",
    "        token_list = pad_sequences([token_list], maxlen=max_sequence_len-1, padding='pre')\n",
    "        predicted = model.predict_classes(token_list, verbose=0)\n",
    "        output_word = \"\"\n",
    "        for word, index in tokenizer.word_index.items():\n",
    "            if index == predicted:\n",
    "                output_word = word\n",
    "                break\n",
    "        seed_text += \" \" + output_word\n",
    "    print(seed_text)"
   ]
  },
  {
   "cell_type": "code",
   "execution_count": 10,
   "metadata": {},
   "outputs": [
    {
     "name": "stdout",
     "output_type": "stream",
     "text": [
      "come together for you you feel like you can see this future with love you down from the pain just going streaming out turn future future with future and you precious said you'll wait everglow answer call grace chance one raise she spoken up your eyes i see it at i'm on your eyes and see it at i'm against the reign of blood thirst day close your eyes and only night call it up and you take ring only night she'd guide sun only night call sun love and future feels she'd say i don't night call sun realised answer space you run sun from it apart with me answer half future at future must go to say i tried to swim in your eyes and down at view prolly at sound k's grace close your part of call sound future work ring future feels draw the line for you ah lie and the days are done for sleeping this outcome heard future only precious everglow call or me everglow fall everglow everglow everglow call it love for future close into future call sound guide you does this people know how you you know what is true love grace only night\n"
     ]
    }
   ],
   "source": [
    "generator(200,\"come together\")"
   ]
  },
  {
   "cell_type": "markdown",
   "metadata": {},
   "source": [
    "#### This is not the most accurate model for text prediction. But given the limitations of the dataset and the computational capacity of the local pc I would say this is a good start. We can try to scale it up and fine tune parameters to get a better model."
   ]
  },
  {
   "cell_type": "code",
   "execution_count": null,
   "metadata": {},
   "outputs": [],
   "source": []
  }
 ],
 "metadata": {
  "accelerator": "GPU",
  "colab": {
   "name": "NLP_Week4_Exercise_Shakespeare_Answer.ipynb",
   "provenance": []
  },
  "kernelspec": {
   "display_name": "Python 3",
   "language": "python",
   "name": "python3"
  },
  "language_info": {
   "codemirror_mode": {
    "name": "ipython",
    "version": 3
   },
   "file_extension": ".py",
   "mimetype": "text/x-python",
   "name": "python",
   "nbconvert_exporter": "python",
   "pygments_lexer": "ipython3",
   "version": "3.7.1"
  }
 },
 "nbformat": 4,
 "nbformat_minor": 1
}
